{
 "cells": [
  {
   "cell_type": "code",
   "execution_count": 50,
   "metadata": {},
   "outputs": [],
   "source": [
    "import pandas as pd\n",
    "import matplotlib.pyplot as plt\n",
    "import time\n",
    "\n",
    "from sklearn.model_selection import train_test_split\n",
    "from sklearn.preprocessing import MinMaxScaler\n",
    "from sklearn.metrics import accuracy_score\n",
    "\n",
    "from sklearn.cluster import KMeans, DBSCAN\n",
    "from yellowbrick.cluster import KElbowVisualizer\n",
    "from sklearn.metrics import silhouette_score\n",
    "from sklearn.decomposition import PCA\n",
    "from ds_utils.unsupervised import plot_cluster_cardinality, plot_cluster_magnitude, plot_magnitude_vs_cardinality\n",
    "from scipy.spatial.distance import euclidean\n",
    "\n",
    "from sklearn.naive_bayes import GaussianNB\n",
    "from sklearn.tree import DecisionTreeClassifier\n",
    "from sklearn.ensemble import RandomForestClassifier\n",
    "from sklearn.svm import SVC\n",
    "from sklearn.linear_model import LogisticRegression\n",
    "from sklearn.ensemble import GradientBoostingClassifier\n",
    "\n",
    "from keras.models import Sequential\n",
    "from keras.layers import Dense\n",
    "from keras.wrappers.scikit_learn import KerasClassifier\n",
    "\n",
    "import warnings\n",
    "warnings.filterwarnings('ignore')"
   ]
  },
  {
   "cell_type": "code",
   "execution_count": 2,
   "metadata": {},
   "outputs": [],
   "source": [
    "df = pd.read_csv(r\"C:\\Users\\mituc\\Python\\attack_classifier\\data\\df_attacks_enc.csv\")\n",
    "df.drop(columns=['Unnamed: 0'], inplace=True)"
   ]
  },
  {
   "cell_type": "code",
   "execution_count": 3,
   "metadata": {},
   "outputs": [
    {
     "data": {
      "text/html": [
       "<div>\n",
       "<style scoped>\n",
       "    .dataframe tbody tr th:only-of-type {\n",
       "        vertical-align: middle;\n",
       "    }\n",
       "\n",
       "    .dataframe tbody tr th {\n",
       "        vertical-align: top;\n",
       "    }\n",
       "\n",
       "    .dataframe thead th {\n",
       "        text-align: right;\n",
       "    }\n",
       "</style>\n",
       "<table border=\"1\" class=\"dataframe\">\n",
       "  <thead>\n",
       "    <tr style=\"text-align: right;\">\n",
       "      <th></th>\n",
       "      <th>duration</th>\n",
       "      <th>protocol_type</th>\n",
       "      <th>flag</th>\n",
       "      <th>src_bytes</th>\n",
       "      <th>dst_bytes</th>\n",
       "      <th>land</th>\n",
       "      <th>wrong_fragment</th>\n",
       "      <th>urgent</th>\n",
       "      <th>num_failed_logins</th>\n",
       "      <th>logged_in</th>\n",
       "      <th>...</th>\n",
       "      <th>srv_count</th>\n",
       "      <th>serror_rate</th>\n",
       "      <th>rerror_rate</th>\n",
       "      <th>same_srv_rate</th>\n",
       "      <th>diff_srv_rate</th>\n",
       "      <th>srv_diff_host_rate</th>\n",
       "      <th>dst_host_count</th>\n",
       "      <th>dst_host_diff_srv_rate</th>\n",
       "      <th>dst_host_srv_diff_host_rate</th>\n",
       "      <th>Attack Type</th>\n",
       "    </tr>\n",
       "  </thead>\n",
       "  <tbody>\n",
       "    <tr>\n",
       "      <th>0</th>\n",
       "      <td>0</td>\n",
       "      <td>1</td>\n",
       "      <td>0</td>\n",
       "      <td>181</td>\n",
       "      <td>5450</td>\n",
       "      <td>0</td>\n",
       "      <td>0</td>\n",
       "      <td>0</td>\n",
       "      <td>0</td>\n",
       "      <td>1</td>\n",
       "      <td>...</td>\n",
       "      <td>8</td>\n",
       "      <td>0.0</td>\n",
       "      <td>0.0</td>\n",
       "      <td>1.0</td>\n",
       "      <td>0.0</td>\n",
       "      <td>0.0</td>\n",
       "      <td>9</td>\n",
       "      <td>0.0</td>\n",
       "      <td>0.0</td>\n",
       "      <td>normal</td>\n",
       "    </tr>\n",
       "    <tr>\n",
       "      <th>1</th>\n",
       "      <td>0</td>\n",
       "      <td>1</td>\n",
       "      <td>0</td>\n",
       "      <td>239</td>\n",
       "      <td>486</td>\n",
       "      <td>0</td>\n",
       "      <td>0</td>\n",
       "      <td>0</td>\n",
       "      <td>0</td>\n",
       "      <td>1</td>\n",
       "      <td>...</td>\n",
       "      <td>8</td>\n",
       "      <td>0.0</td>\n",
       "      <td>0.0</td>\n",
       "      <td>1.0</td>\n",
       "      <td>0.0</td>\n",
       "      <td>0.0</td>\n",
       "      <td>19</td>\n",
       "      <td>0.0</td>\n",
       "      <td>0.0</td>\n",
       "      <td>normal</td>\n",
       "    </tr>\n",
       "    <tr>\n",
       "      <th>2</th>\n",
       "      <td>0</td>\n",
       "      <td>1</td>\n",
       "      <td>0</td>\n",
       "      <td>235</td>\n",
       "      <td>1337</td>\n",
       "      <td>0</td>\n",
       "      <td>0</td>\n",
       "      <td>0</td>\n",
       "      <td>0</td>\n",
       "      <td>1</td>\n",
       "      <td>...</td>\n",
       "      <td>8</td>\n",
       "      <td>0.0</td>\n",
       "      <td>0.0</td>\n",
       "      <td>1.0</td>\n",
       "      <td>0.0</td>\n",
       "      <td>0.0</td>\n",
       "      <td>29</td>\n",
       "      <td>0.0</td>\n",
       "      <td>0.0</td>\n",
       "      <td>normal</td>\n",
       "    </tr>\n",
       "    <tr>\n",
       "      <th>3</th>\n",
       "      <td>0</td>\n",
       "      <td>1</td>\n",
       "      <td>0</td>\n",
       "      <td>219</td>\n",
       "      <td>1337</td>\n",
       "      <td>0</td>\n",
       "      <td>0</td>\n",
       "      <td>0</td>\n",
       "      <td>0</td>\n",
       "      <td>1</td>\n",
       "      <td>...</td>\n",
       "      <td>6</td>\n",
       "      <td>0.0</td>\n",
       "      <td>0.0</td>\n",
       "      <td>1.0</td>\n",
       "      <td>0.0</td>\n",
       "      <td>0.0</td>\n",
       "      <td>39</td>\n",
       "      <td>0.0</td>\n",
       "      <td>0.0</td>\n",
       "      <td>normal</td>\n",
       "    </tr>\n",
       "    <tr>\n",
       "      <th>4</th>\n",
       "      <td>0</td>\n",
       "      <td>1</td>\n",
       "      <td>0</td>\n",
       "      <td>217</td>\n",
       "      <td>2032</td>\n",
       "      <td>0</td>\n",
       "      <td>0</td>\n",
       "      <td>0</td>\n",
       "      <td>0</td>\n",
       "      <td>1</td>\n",
       "      <td>...</td>\n",
       "      <td>6</td>\n",
       "      <td>0.0</td>\n",
       "      <td>0.0</td>\n",
       "      <td>1.0</td>\n",
       "      <td>0.0</td>\n",
       "      <td>0.0</td>\n",
       "      <td>49</td>\n",
       "      <td>0.0</td>\n",
       "      <td>0.0</td>\n",
       "      <td>normal</td>\n",
       "    </tr>\n",
       "  </tbody>\n",
       "</table>\n",
       "<p>5 rows × 29 columns</p>\n",
       "</div>"
      ],
      "text/plain": [
       "   duration  protocol_type  flag  src_bytes  dst_bytes  land  wrong_fragment  \\\n",
       "0         0              1     0        181       5450     0               0   \n",
       "1         0              1     0        239        486     0               0   \n",
       "2         0              1     0        235       1337     0               0   \n",
       "3         0              1     0        219       1337     0               0   \n",
       "4         0              1     0        217       2032     0               0   \n",
       "\n",
       "   urgent  num_failed_logins  logged_in  ...  srv_count  serror_rate  \\\n",
       "0       0                  0          1  ...          8          0.0   \n",
       "1       0                  0          1  ...          8          0.0   \n",
       "2       0                  0          1  ...          8          0.0   \n",
       "3       0                  0          1  ...          6          0.0   \n",
       "4       0                  0          1  ...          6          0.0   \n",
       "\n",
       "   rerror_rate  same_srv_rate  diff_srv_rate  srv_diff_host_rate  \\\n",
       "0          0.0            1.0            0.0                 0.0   \n",
       "1          0.0            1.0            0.0                 0.0   \n",
       "2          0.0            1.0            0.0                 0.0   \n",
       "3          0.0            1.0            0.0                 0.0   \n",
       "4          0.0            1.0            0.0                 0.0   \n",
       "\n",
       "   dst_host_count  dst_host_diff_srv_rate  dst_host_srv_diff_host_rate  \\\n",
       "0               9                     0.0                          0.0   \n",
       "1              19                     0.0                          0.0   \n",
       "2              29                     0.0                          0.0   \n",
       "3              39                     0.0                          0.0   \n",
       "4              49                     0.0                          0.0   \n",
       "\n",
       "   Attack Type  \n",
       "0       normal  \n",
       "1       normal  \n",
       "2       normal  \n",
       "3       normal  \n",
       "4       normal  \n",
       "\n",
       "[5 rows x 29 columns]"
      ]
     },
     "execution_count": 3,
     "metadata": {},
     "output_type": "execute_result"
    }
   ],
   "source": [
    "df.head(5)"
   ]
  },
  {
   "cell_type": "code",
   "execution_count": 4,
   "metadata": {},
   "outputs": [
    {
     "name": "stdout",
     "output_type": "stream",
     "text": [
      "(330994, 28) (163027, 28)\n",
      "(330994, 1) (163027, 1)\n"
     ]
    }
   ],
   "source": [
    "Y = df[['Attack Type']]\n",
    "X = df.drop(['Attack Type',], axis=1)\n",
    "\n",
    "sc = MinMaxScaler()\n",
    "X = sc.fit_transform(X)\n",
    "\n",
    "X_train, X_test, Y_train, Y_test = train_test_split(X, Y, test_size=0.33, random_state=42)\n",
    "print(X_train.shape, X_test.shape)\n",
    "print(Y_train.shape, Y_test.shape)"
   ]
  },
  {
   "cell_type": "markdown",
   "metadata": {},
   "source": [
    "KMEANS"
   ]
  },
  {
   "cell_type": "code",
   "execution_count": 58,
   "metadata": {},
   "outputs": [],
   "source": [
    "model = KMeans()\n",
    "visualizer = KElbowVisualizer(model, k=(2,15), metric='silhouette')\n",
    "visualizer.fit(X)  \n",
    "visualizer.show();"
   ]
  },
  {
   "cell_type": "code",
   "execution_count": 53,
   "metadata": {},
   "outputs": [],
   "source": [
    "kmeans = KMeans(n_clusters=5)\n",
    "km_fit = kmeans.fit(X)"
   ]
  },
  {
   "cell_type": "code",
   "execution_count": 54,
   "metadata": {},
   "outputs": [
    {
     "data": {
      "text/plain": [
       "array([2, 2, 2, ..., 2, 2, 2])"
      ]
     },
     "execution_count": 54,
     "metadata": {},
     "output_type": "execute_result"
    }
   ],
   "source": [
    "labels = km_fit.labels_\n",
    "labels"
   ]
  },
  {
   "cell_type": "code",
   "execution_count": 55,
   "metadata": {},
   "outputs": [
    {
     "data": {
      "text/plain": [
       "array([[-3.19948061e-16,  9.05664432e-14,  2.66384137e-14,\n",
       "         1.34958324e-06,  1.98408998e-17,  1.73201297e-17,\n",
       "         1.97238059e-15, -2.88584125e-18,  1.56294519e-17,\n",
       "         1.11022302e-13, -2.65121312e-18,  7.23704950e-17,\n",
       "         2.44623115e-18,  6.91178885e-19, -5.00088252e-18,\n",
       "         1.22514845e-17,  0.00000000e+00,  0.00000000e+00,\n",
       "        -1.03216047e-15,  9.92320240e-01,  4.07729406e-14,\n",
       "        -1.21985755e-14,  1.00000000e+00,  1.28855260e-14,\n",
       "         5.35335665e-15,  9.99928417e-01,  3.31947843e-05,\n",
       "        -3.16587034e-15],\n",
       "       [ 2.06679229e-07,  5.00143653e-01,  1.00491869e-01,\n",
       "         1.14927987e-05,  1.46418755e-06,  2.18353158e-04,\n",
       "         6.70382501e-04, -1.30019557e-18,  1.14922714e-05,\n",
       "         8.04459002e-05,  1.17002764e-07,  1.89328804e-17,\n",
       "        -6.16639986e-18,  8.20876532e-07, -4.72983198e-18,\n",
       "         1.17364885e-17,  0.00000000e+00,  0.00000000e+00,\n",
       "         1.39211559e-16,  2.17289841e-02,  9.99174050e-01,\n",
       "         9.53858530e-05,  7.22009998e-02,  6.42469689e-02,\n",
       "         3.69936218e-04,  9.98270751e-01,  6.69363903e-02,\n",
       "         1.85140493e-04],\n",
       "       [ 3.12576476e-04,  4.87984486e-01,  1.41147305e-03,\n",
       "         9.93568699e-06,  8.81396469e-04,  4.24194100e-18,\n",
       "         7.24174086e-04,  3.10995006e-05,  2.13253719e-05,\n",
       "         9.75968972e-01,  7.59294207e-05,  7.33059658e-04,\n",
       "         1.19955217e-04,  2.53714804e-04,  3.59865650e-04,\n",
       "         8.29690249e-04,  0.00000000e+00,  0.00000000e+00,\n",
       "         9.12992483e-03,  2.09412491e-02,  1.61353095e-03,\n",
       "         2.27834942e-03,  9.96202884e-01,  6.44066215e-03,\n",
       "         1.51788532e-01,  5.21624397e-01,  1.46954470e-02,\n",
       "         3.05856480e-02],\n",
       "       [ 1.52076858e-02,  9.23495112e-01,  6.57635144e-04,\n",
       "         1.36999483e-06,  7.41594658e-04,  8.76846859e-05,\n",
       "         4.15040846e-02,  4.99749439e-19,  1.13990092e-04,\n",
       "        -5.46784840e-15,  1.04354459e-18,  7.18283939e-19,\n",
       "         3.04931861e-20, -1.90413007e-18, -3.46267069e-18,\n",
       "         9.37834879e-18,  0.00000000e+00,  0.00000000e+00,\n",
       "         8.32667268e-17,  2.90688461e-02,  2.31706782e-03,\n",
       "         1.62216669e-04,  9.47309834e-01,  5.76193608e-02,\n",
       "         7.48257267e-02,  8.87629668e-01,  2.04147486e-01,\n",
       "         6.19755360e-03],\n",
       "       [ 1.26827452e-03,  4.99612703e-01,  2.05735512e-01,\n",
       "         1.41495147e-09,  1.93565876e-06,  3.52087881e-05,\n",
       "        -4.33680869e-17, -9.49523934e-19,  3.45046124e-04,\n",
       "         1.76043941e-04, -4.04034716e-18,  2.03287907e-18,\n",
       "        -4.34019682e-18,  1.10791910e-17, -3.86924650e-18,\n",
       "         1.01643954e-17,  0.00000000e+00,  0.00000000e+00,\n",
       "         3.29380620e-16,  1.54359875e-02,  5.98126892e-03,\n",
       "         9.92548764e-01,  2.69035279e-01,  1.04845433e-01,\n",
       "         4.21713260e-02,  8.23198587e-01,  1.29403563e-01,\n",
       "         2.99112739e-02]])"
      ]
     },
     "execution_count": 55,
     "metadata": {},
     "output_type": "execute_result"
    }
   ],
   "source": [
    "centroids = km_fit.cluster_centers_\n",
    "centroids"
   ]
  },
  {
   "cell_type": "code",
   "execution_count": 57,
   "metadata": {},
   "outputs": [
    {
     "data": {
      "image/png": "[encoded data removed]",
      "text/plain": [
       "<Figure size 864x288 with 3 Axes>"
      ]
     },
     "metadata": {},
     "output_type": "display_data"
    }
   ],
   "source": [
    "cluster_colors = ['blue', 'yellow', 'red', 'green', \"purple\"]\n",
    "\n",
    "# iniciamos los subplots\n",
    "fig, (ax1, ax2, ax3) = plt.subplots(1,3,figsize=(12,4))\n",
    "\n",
    "# ploteamos la CARDINALIDAD\n",
    "plot_cluster_cardinality(labels, # las labels que predijo nuestro modelo\n",
    "                         ax=ax1, # sobre que eje lo queremos hacer\n",
    "                         title=\"Cardinality\", # título de la gráfica\n",
    "                         color=cluster_colors # colores que vamos a querer usar\n",
    "                        )\n",
    "\n",
    "\n",
    "# ploteamos la MAGNITUD\n",
    "plot_cluster_magnitude(X, # el dataframe del que sacaremos los datos\n",
    "                       labels, # las labels que predijo nuestro modelo\n",
    "                       centroids, # los centroides de nuestros clusters\n",
    "                       euclidean, # la distancia que quiero usar para medir\n",
    "                       ax=ax2,\n",
    "                       title=\"Magnitude\",\n",
    "                       color=cluster_colors\n",
    "                      )\n",
    "\n",
    "# ploteamos la RELACIÓN ENTRE CARDINALIDAD Y MAGNITUD\n",
    "plot_magnitude_vs_cardinality(X,# el dataframe del que sacaremos los datos\n",
    "                              labels, # las labels que predijo nuestro modelo\n",
    "                              centroids, # los centroides de nuestros clusters\n",
    "                              euclidean,# la distancia\n",
    "                              color=cluster_colors,\n",
    "                              ax=ax3,\n",
    "                              title=\"Magnitude vs. Cardinality\")\n",
    "plt.tight_layout()\n",
    "plt.show()"
   ]
  },
  {
   "cell_type": "markdown",
   "metadata": {},
   "source": [
    "GAUSSIAN NAIVE BAYES"
   ]
  },
  {
   "cell_type": "code",
   "execution_count": 5,
   "metadata": {},
   "outputs": [],
   "source": [
    "model1 = GaussianNB()"
   ]
  },
  {
   "cell_type": "code",
   "execution_count": 6,
   "metadata": {},
   "outputs": [],
   "source": [
    "start_time = time.time()\n",
    "model1.fit(X_train, Y_train.values.ravel())\n",
    "end_time = time.time()"
   ]
  },
  {
   "cell_type": "code",
   "execution_count": 7,
   "metadata": {},
   "outputs": [
    {
     "name": "stdout",
     "output_type": "stream",
     "text": [
      "Gaussian Naive Bayes train time:  0.42877197265625\n"
     ]
    }
   ],
   "source": [
    "gaussian_train_time = end_time - start_time\n",
    "print(\"Gaussian Naive Bayes train time: \", gaussian_train_time)"
   ]
  },
  {
   "cell_type": "code",
   "execution_count": 8,
   "metadata": {},
   "outputs": [],
   "source": [
    "start_time = time.time()\n",
    "Y_test_pred1 = model1.predict(X_test)\n",
    "end_time = time.time()"
   ]
  },
  {
   "cell_type": "code",
   "execution_count": 9,
   "metadata": {},
   "outputs": [
    {
     "name": "stdout",
     "output_type": "stream",
     "text": [
      "Gaussian Naive Bayes test time:  0.2849299907684326\n"
     ]
    }
   ],
   "source": [
    "gaussian_test_time = end_time - start_time\n",
    "print(\"Gaussian Naive Bayes test time: \", gaussian_test_time)"
   ]
  },
  {
   "cell_type": "code",
   "execution_count": 10,
   "metadata": {},
   "outputs": [
    {
     "name": "stdout",
     "output_type": "stream",
     "text": [
      "Train score is: 0.8465047704792232\n",
      "Test score is: 0.8462524612487502\n"
     ]
    }
   ],
   "source": [
    "print(\"Train score is:\", model1.score(X_train, Y_train))\n",
    "print(\"Test score is:\",model1.score(X_test,Y_test))"
   ]
  },
  {
   "cell_type": "markdown",
   "metadata": {},
   "source": [
    "DECISION TREE CLASSIFIER"
   ]
  },
  {
   "cell_type": "code",
   "execution_count": 11,
   "metadata": {},
   "outputs": [],
   "source": [
    "model2 = DecisionTreeClassifier(criterion=\"entropy\", max_depth = 4)"
   ]
  },
  {
   "cell_type": "code",
   "execution_count": 12,
   "metadata": {},
   "outputs": [],
   "source": [
    "start_time = time.time()\n",
    "model2.fit(X_train, Y_train.values.ravel())\n",
    "end_time = time.time()"
   ]
  },
  {
   "cell_type": "code",
   "execution_count": 13,
   "metadata": {},
   "outputs": [
    {
     "name": "stdout",
     "output_type": "stream",
     "text": [
      "Decision Tree train time:  0.7116339206695557\n"
     ]
    }
   ],
   "source": [
    "decision_train_time = end_time - start_time\n",
    "print(\"Decision Tree train time: \", decision_train_time)"
   ]
  },
  {
   "cell_type": "code",
   "execution_count": 14,
   "metadata": {},
   "outputs": [],
   "source": [
    "start_time = time.time()\n",
    "Y_test_pred2 = model2.predict(X_test)\n",
    "end_time = time.time()"
   ]
  },
  {
   "cell_type": "code",
   "execution_count": 15,
   "metadata": {},
   "outputs": [
    {
     "name": "stdout",
     "output_type": "stream",
     "text": [
      "Decision Tree test time:  0.029202699661254883\n"
     ]
    }
   ],
   "source": [
    "decision_test_time = end_time - start_time\n",
    "print(\"Decision Tree test time: \", decision_test_time)"
   ]
  },
  {
   "cell_type": "code",
   "execution_count": 16,
   "metadata": {},
   "outputs": [
    {
     "name": "stdout",
     "output_type": "stream",
     "text": [
      "Train score is: 0.9921720635419373\n",
      "Test score is: 0.9917743686628595\n"
     ]
    }
   ],
   "source": [
    "print(\"Train score is:\", model2.score(X_train, Y_train))\n",
    "print(\"Test score is:\",model2.score(X_test,Y_test))"
   ]
  },
  {
   "cell_type": "markdown",
   "metadata": {},
   "source": [
    "RANDOM FOREST CLASSIFIER"
   ]
  },
  {
   "cell_type": "code",
   "execution_count": 17,
   "metadata": {},
   "outputs": [],
   "source": [
    "model3 = RandomForestClassifier(n_estimators=30)"
   ]
  },
  {
   "cell_type": "code",
   "execution_count": 18,
   "metadata": {},
   "outputs": [],
   "source": [
    "start_time = time.time()\n",
    "model3.fit(X_train, Y_train.values.ravel())\n",
    "end_time = time.time()"
   ]
  },
  {
   "cell_type": "code",
   "execution_count": 19,
   "metadata": {},
   "outputs": [
    {
     "name": "stdout",
     "output_type": "stream",
     "text": [
      "Random Forest train time:  5.436673402786255\n"
     ]
    }
   ],
   "source": [
    "random_forest_train_time = end_time - start_time\n",
    "print(\"Random Forest train time: \", random_forest_train_time)"
   ]
  },
  {
   "cell_type": "code",
   "execution_count": 20,
   "metadata": {},
   "outputs": [],
   "source": [
    "start_time = time.time()\n",
    "Y_test_pred3 = model3.predict(X_test)\n",
    "end_time = time.time()"
   ]
  },
  {
   "cell_type": "code",
   "execution_count": 21,
   "metadata": {},
   "outputs": [
    {
     "name": "stdout",
     "output_type": "stream",
     "text": [
      "Random Forest test time:  0.3957645893096924\n"
     ]
    }
   ],
   "source": [
    "random_forest_test_time = end_time - start_time\n",
    "print(\"Random Forest test time: \", random_forest_test_time)"
   ]
  },
  {
   "cell_type": "code",
   "execution_count": 22,
   "metadata": {},
   "outputs": [
    {
     "name": "stdout",
     "output_type": "stream",
     "text": [
      "Train score is: 0.9999395759439749\n",
      "Test score is: 0.9996810344298798\n"
     ]
    }
   ],
   "source": [
    "print(\"Train score is:\", model3.score(X_train, Y_train))\n",
    "print(\"Test score is:\",model3.score(X_test,Y_test))"
   ]
  },
  {
   "cell_type": "markdown",
   "metadata": {},
   "source": [
    "SUPPORT VECTOR MACHINE CLASSIFIER"
   ]
  },
  {
   "cell_type": "code",
   "execution_count": 23,
   "metadata": {},
   "outputs": [],
   "source": [
    "model4 = SVC(gamma = 'scale')"
   ]
  },
  {
   "cell_type": "code",
   "execution_count": 24,
   "metadata": {},
   "outputs": [],
   "source": [
    "start_time = time.time()\n",
    "model4.fit(X_train, Y_train.values.ravel())\n",
    "end_time = time.time()"
   ]
  },
  {
   "cell_type": "code",
   "execution_count": 25,
   "metadata": {},
   "outputs": [
    {
     "name": "stdout",
     "output_type": "stream",
     "text": [
      "Support Vector Machine train time:  115.39157700538635\n"
     ]
    }
   ],
   "source": [
    "vm_train_time = end_time - start_time\n",
    "print(\"Support Vector Machine train time: \", vm_train_time)"
   ]
  },
  {
   "cell_type": "code",
   "execution_count": 26,
   "metadata": {},
   "outputs": [],
   "source": [
    "start_time = time.time()\n",
    "Y_test_pred4 = model4.predict(X_test)\n",
    "end_time = time.time()"
   ]
  },
  {
   "cell_type": "code",
   "execution_count": 27,
   "metadata": {},
   "outputs": [
    {
     "name": "stdout",
     "output_type": "stream",
     "text": [
      "Support Vector Machine test time:  68.14210724830627\n"
     ]
    }
   ],
   "source": [
    "vm_test_time = end_time - start_time\n",
    "print(\"Support Vector Machine test time: \", vm_test_time)"
   ]
  },
  {
   "cell_type": "code",
   "execution_count": 28,
   "metadata": {},
   "outputs": [
    {
     "name": "stdout",
     "output_type": "stream",
     "text": [
      "Train score is: 0.993229484522378\n",
      "Test score is: 0.9932526514013016\n"
     ]
    }
   ],
   "source": [
    "print(\"Train score is:\", model4.score(X_train, Y_train))\n",
    "print(\"Test score is:\", model4.score(X_test,Y_test))"
   ]
  },
  {
   "cell_type": "markdown",
   "metadata": {},
   "source": [
    "LOGISTIC REGRESSION"
   ]
  },
  {
   "cell_type": "code",
   "execution_count": 29,
   "metadata": {},
   "outputs": [],
   "source": [
    "model5 = LogisticRegression(max_iter=1200000)"
   ]
  },
  {
   "cell_type": "code",
   "execution_count": 30,
   "metadata": {},
   "outputs": [],
   "source": [
    "start_time = time.time()\n",
    "model5.fit(X_train, Y_train.values.ravel())\n",
    "end_time = time.time()"
   ]
  },
  {
   "cell_type": "code",
   "execution_count": 31,
   "metadata": {},
   "outputs": [
    {
     "name": "stdout",
     "output_type": "stream",
     "text": [
      "Logistic Regression train time:  15.796597003936768\n"
     ]
    }
   ],
   "source": [
    "logistic_train_time = end_time - start_time\n",
    "print('Logistic Regression train time: ', logistic_train_time)"
   ]
  },
  {
   "cell_type": "code",
   "execution_count": 32,
   "metadata": {},
   "outputs": [],
   "source": [
    "start_time = time.time()\n",
    "Y_test_pred5 = model5.predict(X_test)\n",
    "end_time = time.time()"
   ]
  },
  {
   "cell_type": "code",
   "execution_count": 33,
   "metadata": {},
   "outputs": [
    {
     "name": "stdout",
     "output_type": "stream",
     "text": [
      "Logistic Regression test time:  0.027772188186645508\n"
     ]
    }
   ],
   "source": [
    "logistic_test_time = end_time - start_time\n",
    "print('Logistic Regression test time: ', logistic_test_time)"
   ]
  },
  {
   "cell_type": "code",
   "execution_count": 34,
   "metadata": {},
   "outputs": [
    {
     "name": "stdout",
     "output_type": "stream",
     "text": [
      "Train score is: 0.9913049783379759\n",
      "Test score is: 0.9913449919338514\n"
     ]
    }
   ],
   "source": [
    "print(\"Train score is:\", model5.score(X_train, Y_train))\n",
    "print(\"Test score is:\",model5.score(X_test,Y_test))"
   ]
  },
  {
   "cell_type": "markdown",
   "metadata": {},
   "source": [
    "GRADIENT BOOSTING CLASSIFIER"
   ]
  },
  {
   "cell_type": "code",
   "execution_count": 35,
   "metadata": {},
   "outputs": [],
   "source": [
    "model6 = GradientBoostingClassifier(random_state=0)"
   ]
  },
  {
   "cell_type": "code",
   "execution_count": 36,
   "metadata": {},
   "outputs": [],
   "source": [
    "start_time = time.time()\n",
    "model6.fit(X_train, Y_train.values.ravel())\n",
    "end_time = time.time()"
   ]
  },
  {
   "cell_type": "code",
   "execution_count": 37,
   "metadata": {},
   "outputs": [
    {
     "name": "stdout",
     "output_type": "stream",
     "text": [
      "Gradient Boosting train time:  9912.751189947128\n"
     ]
    }
   ],
   "source": [
    "gradient_train_time = end_time - start_time\n",
    "print('Gradient Boosting train time: ', gradient_train_time)"
   ]
  },
  {
   "cell_type": "code",
   "execution_count": 38,
   "metadata": {},
   "outputs": [],
   "source": [
    "start_time = time.time()\n",
    "Y_test_pred6 = model6.predict(X_test)\n",
    "end_time = time.time()"
   ]
  },
  {
   "cell_type": "code",
   "execution_count": 39,
   "metadata": {},
   "outputs": [
    {
     "name": "stdout",
     "output_type": "stream",
     "text": [
      "Gradient Boosting test time:  1.3112201690673828\n"
     ]
    }
   ],
   "source": [
    "gradient_test_time = end_time - start_time\n",
    "print('Gradient Boosting test time: ', gradient_test_time)"
   ]
  },
  {
   "cell_type": "code",
   "execution_count": 40,
   "metadata": {},
   "outputs": [
    {
     "name": "stdout",
     "output_type": "stream",
     "text": [
      "Train score is: 0.9989093457887455\n",
      "Test score is: 0.9987302716727904\n"
     ]
    }
   ],
   "source": [
    "print(\"Train score is:\", model6.score(X_train, Y_train))\n",
    "print(\"Test score is:\", model6.score(X_test,Y_test))"
   ]
  },
  {
   "cell_type": "markdown",
   "metadata": {},
   "source": [
    "ARTIFICIAL NEURAL NETWORK"
   ]
  },
  {
   "cell_type": "code",
   "execution_count": 41,
   "metadata": {},
   "outputs": [],
   "source": [
    "def fun():\n",
    "    model = Sequential()\n",
    "    \n",
    "    #here 28 is output dimension\n",
    "    model.add(Dense(28, input_dim =28, activation = 'relu', kernel_initializer='random_uniform'))\n",
    "    \n",
    "    #in next layer we do not specify the input_dim as the model is sequential so output of previous layer is input to next layer\n",
    "    model.add(Dense(1, activation='sigmoid', kernel_initializer='random_uniform'))\n",
    "    \n",
    "    #5 classes-normal,dos,probe,r2l,u2r\n",
    "    model.add(Dense(5, activation='softmax'))\n",
    "    \n",
    "    #loss is categorical_crossentropy which specifies that we have multiple classes\n",
    "    model.compile(loss ='categorical_crossentropy', optimizer = 'adam', metrics = ['accuracy'])\n",
    "    \n",
    "    return model"
   ]
  },
  {
   "cell_type": "code",
   "execution_count": 42,
   "metadata": {},
   "outputs": [
    {
     "name": "stderr",
     "output_type": "stream",
     "text": [
      "C:\\Users\\mituc\\AppData\\Local\\Temp/ipykernel_19204/4004793477.py:1: DeprecationWarning: KerasClassifier is deprecated, use Sci-Keras (https://github.com/adriangb/scikeras) instead. See https://www.adriangb.com/scikeras/stable/migration.html for help migrating.\n",
      "  model7 = KerasClassifier(build_fn=fun, epochs=100, batch_size=64)\n"
     ]
    }
   ],
   "source": [
    "model7 = KerasClassifier(build_fn=fun, epochs=100, batch_size=64)"
   ]
  },
  {
   "cell_type": "code",
   "execution_count": 43,
   "metadata": {},
   "outputs": [
    {
     "name": "stdout",
     "output_type": "stream",
     "text": [
      "Epoch 1/100\n",
      "5172/5172 [==============================] - 6s 1ms/step - loss: 0.3385 - accuracy: 0.9083\n",
      "Epoch 2/100\n",
      "5172/5172 [==============================] - 5s 1ms/step - loss: 0.0828 - accuracy: 0.9845\n",
      "Epoch 3/100\n",
      "5172/5172 [==============================] - 5s 917us/step - loss: 0.0711 - accuracy: 0.9846\n",
      "Epoch 4/100\n",
      "5172/5172 [==============================] - 5s 922us/step - loss: 0.0655 - accuracy: 0.9846\n",
      "Epoch 5/100\n",
      "5172/5172 [==============================] - 6s 1ms/step - loss: 0.0617 - accuracy: 0.9846\n",
      "Epoch 6/100\n",
      "5172/5172 [==============================] - 6s 1ms/step - loss: 0.0597 - accuracy: 0.9847\n",
      "Epoch 7/100\n",
      "5172/5172 [==============================] - 4s 835us/step - loss: 0.0581 - accuracy: 0.9847\n",
      "Epoch 8/100\n",
      "5172/5172 [==============================] - 4s 782us/step - loss: 0.0568 - accuracy: 0.9847\n",
      "Epoch 9/100\n",
      "5172/5172 [==============================] - 4s 777us/step - loss: 0.0559 - accuracy: 0.9847\n",
      "Epoch 10/100\n",
      "5172/5172 [==============================] - 5s 945us/step - loss: 0.0551 - accuracy: 0.9847\n",
      "Epoch 11/100\n",
      "5172/5172 [==============================] - 4s 852us/step - loss: 0.0545 - accuracy: 0.9847\n",
      "Epoch 12/100\n",
      "5172/5172 [==============================] - 5s 882us/step - loss: 0.0540 - accuracy: 0.9847\n",
      "Epoch 13/100\n",
      "5172/5172 [==============================] - 5s 875us/step - loss: 0.0536 - accuracy: 0.9847\n",
      "Epoch 14/100\n",
      "5172/5172 [==============================] - 6s 1ms/step - loss: 0.0532 - accuracy: 0.9848\n",
      "Epoch 15/100\n",
      "5172/5172 [==============================] - 6s 1ms/step - loss: 0.0529 - accuracy: 0.9850\n",
      "Epoch 16/100\n",
      "5172/5172 [==============================] - 6s 1ms/step - loss: 0.0518 - accuracy: 0.9848\n",
      "Epoch 17/100\n",
      "5172/5172 [==============================] - 6s 1ms/step - loss: 0.0508 - accuracy: 0.9853\n",
      "Epoch 18/100\n",
      "5172/5172 [==============================] - 7s 1ms/step - loss: 0.0498 - accuracy: 0.9856\n",
      "Epoch 19/100\n",
      "5172/5172 [==============================] - 6s 1ms/step - loss: 0.0488 - accuracy: 0.9859\n",
      "Epoch 20/100\n",
      "5172/5172 [==============================] - 5s 1ms/step - loss: 0.0482 - accuracy: 0.9862\n",
      "Epoch 21/100\n",
      "5172/5172 [==============================] - 6s 1ms/step - loss: 0.0472 - accuracy: 0.9865\n",
      "Epoch 22/100\n",
      "5172/5172 [==============================] - 6s 1ms/step - loss: 0.0465 - accuracy: 0.9867\n",
      "Epoch 23/100\n",
      "5172/5172 [==============================] - 5s 1ms/step - loss: 0.0458 - accuracy: 0.9870\n",
      "Epoch 24/100\n",
      "5172/5172 [==============================] - 6s 1ms/step - loss: 0.0451 - accuracy: 0.9878\n",
      "Epoch 25/100\n",
      "5172/5172 [==============================] - 5s 1ms/step - loss: 0.0443 - accuracy: 0.9876\n",
      "Epoch 26/100\n",
      "5172/5172 [==============================] - 5s 1ms/step - loss: 0.0432 - accuracy: 0.9877\n",
      "Epoch 27/100\n",
      "5172/5172 [==============================] - 6s 1ms/step - loss: 0.0422 - accuracy: 0.9880\n",
      "Epoch 28/100\n",
      "5172/5172 [==============================] - 6s 1ms/step - loss: 0.0412 - accuracy: 0.9889\n",
      "Epoch 29/100\n",
      "5172/5172 [==============================] - 6s 1ms/step - loss: 0.0401 - accuracy: 0.9888\n",
      "Epoch 30/100\n",
      "5172/5172 [==============================] - 5s 961us/step - loss: 0.0392 - accuracy: 0.9896\n",
      "Epoch 31/100\n",
      "5172/5172 [==============================] - 5s 998us/step - loss: 0.0379 - accuracy: 0.9902\n",
      "Epoch 32/100\n",
      "5172/5172 [==============================] - 5s 1ms/step - loss: 0.0366 - accuracy: 0.9907\n",
      "Epoch 33/100\n",
      "5172/5172 [==============================] - 6s 1ms/step - loss: 0.0352 - accuracy: 0.9909\n",
      "Epoch 34/100\n",
      "5172/5172 [==============================] - 7s 1ms/step - loss: 0.0336 - accuracy: 0.9916\n",
      "Epoch 35/100\n",
      "5172/5172 [==============================] - 6s 1ms/step - loss: 0.0317 - accuracy: 0.9917\n",
      "Epoch 36/100\n",
      "5172/5172 [==============================] - 6s 1ms/step - loss: 0.0299 - accuracy: 0.9921\n",
      "Epoch 37/100\n",
      "5172/5172 [==============================] - 7s 1ms/step - loss: 0.0280 - accuracy: 0.9923\n",
      "Epoch 38/100\n",
      "5172/5172 [==============================] - 7s 1ms/step - loss: 0.0259 - accuracy: 0.9928\n",
      "Epoch 39/100\n",
      "5172/5172 [==============================] - 8s 1ms/step - loss: 0.0244 - accuracy: 0.9933\n",
      "Epoch 40/100\n",
      "5172/5172 [==============================] - 8s 2ms/step - loss: 0.0227 - accuracy: 0.9941\n",
      "Epoch 41/100\n",
      "5172/5172 [==============================] - 8s 2ms/step - loss: 0.0213 - accuracy: 0.9949\n",
      "Epoch 42/100\n",
      "5172/5172 [==============================] - 6s 1ms/step - loss: 0.0198 - accuracy: 0.9956\n",
      "Epoch 43/100\n",
      "5172/5172 [==============================] - 5s 998us/step - loss: 0.0185 - accuracy: 0.9960\n",
      "Epoch 44/100\n",
      "5172/5172 [==============================] - 5s 987us/step - loss: 0.0173 - accuracy: 0.9964\n",
      "Epoch 45/100\n",
      "5172/5172 [==============================] - 5s 975us/step - loss: 0.0163 - accuracy: 0.9965\n",
      "Epoch 46/100\n",
      "5172/5172 [==============================] - 5s 1ms/step - loss: 0.0156 - accuracy: 0.9965\n",
      "Epoch 47/100\n",
      "5172/5172 [==============================] - 6s 1ms/step - loss: 0.0150 - accuracy: 0.9966\n",
      "Epoch 48/100\n",
      "5172/5172 [==============================] - 6s 1ms/step - loss: 0.0145 - accuracy: 0.9967\n",
      "Epoch 49/100\n",
      "5172/5172 [==============================] - 6s 1ms/step - loss: 0.0140 - accuracy: 0.9966\n",
      "Epoch 50/100\n",
      "5172/5172 [==============================] - 6s 1ms/step - loss: 0.0137 - accuracy: 0.9967\n",
      "Epoch 51/100\n",
      "5172/5172 [==============================] - 7s 1ms/step - loss: 0.0132 - accuracy: 0.9967\n",
      "Epoch 52/100\n",
      "5172/5172 [==============================] - 8s 2ms/step - loss: 0.0131 - accuracy: 0.9967\n",
      "Epoch 53/100\n",
      "5172/5172 [==============================] - 7s 1ms/step - loss: 0.0127 - accuracy: 0.9968\n",
      "Epoch 54/100\n",
      "5172/5172 [==============================] - 6s 1ms/step - loss: 0.0125 - accuracy: 0.9968\n",
      "Epoch 55/100\n",
      "5172/5172 [==============================] - 7s 1ms/step - loss: 0.0123 - accuracy: 0.9969\n",
      "Epoch 56/100\n",
      "5172/5172 [==============================] - 6s 1ms/step - loss: 0.0122 - accuracy: 0.9968\n",
      "Epoch 57/100\n",
      "5172/5172 [==============================] - 7s 1ms/step - loss: 0.0119 - accuracy: 0.9969\n",
      "Epoch 58/100\n",
      "5172/5172 [==============================] - 6s 1ms/step - loss: 0.0118 - accuracy: 0.9968\n",
      "Epoch 59/100\n",
      "5172/5172 [==============================] - 6s 1ms/step - loss: 0.0117 - accuracy: 0.9969\n",
      "Epoch 60/100\n",
      "5172/5172 [==============================] - 6s 1ms/step - loss: 0.0116 - accuracy: 0.9969\n",
      "Epoch 61/100\n",
      "5172/5172 [==============================] - 6s 1ms/step - loss: 0.0115 - accuracy: 0.9969\n",
      "Epoch 62/100\n",
      "5172/5172 [==============================] - 6s 1ms/step - loss: 0.0113 - accuracy: 0.9969\n",
      "Epoch 63/100\n",
      "5172/5172 [==============================] - 6s 1ms/step - loss: 0.0114 - accuracy: 0.9970\n",
      "Epoch 64/100\n",
      "5172/5172 [==============================] - 6s 1ms/step - loss: 0.0111 - accuracy: 0.9970\n",
      "Epoch 65/100\n",
      "5172/5172 [==============================] - 6s 1ms/step - loss: 0.0110 - accuracy: 0.9970\n",
      "Epoch 66/100\n",
      "5172/5172 [==============================] - 6s 1ms/step - loss: 0.0109 - accuracy: 0.9970\n",
      "Epoch 67/100\n",
      "5172/5172 [==============================] - 6s 1ms/step - loss: 0.0108 - accuracy: 0.9970\n",
      "Epoch 68/100\n",
      "5172/5172 [==============================] - 7s 1ms/step - loss: 0.0109 - accuracy: 0.9971\n",
      "Epoch 69/100\n",
      "5172/5172 [==============================] - 8s 1ms/step - loss: 0.0108 - accuracy: 0.9972\n",
      "Epoch 70/100\n",
      "5172/5172 [==============================] - 7s 1ms/step - loss: 0.0107 - accuracy: 0.9972\n",
      "Epoch 71/100\n",
      "5172/5172 [==============================] - 6s 1ms/step - loss: 0.0107 - accuracy: 0.9972\n",
      "Epoch 72/100\n",
      "5172/5172 [==============================] - 7s 1ms/step - loss: 0.0105 - accuracy: 0.9973\n",
      "Epoch 73/100\n",
      "5172/5172 [==============================] - 5s 988us/step - loss: 0.0106 - accuracy: 0.9973\n",
      "Epoch 74/100\n",
      "5172/5172 [==============================] - 6s 1ms/step - loss: 0.0105 - accuracy: 0.9973\n",
      "Epoch 75/100\n",
      "5172/5172 [==============================] - 5s 1ms/step - loss: 0.0105 - accuracy: 0.9974\n",
      "Epoch 76/100\n",
      "5172/5172 [==============================] - 6s 1ms/step - loss: 0.0104 - accuracy: 0.9975\n",
      "Epoch 77/100\n",
      "5172/5172 [==============================] - 6s 1ms/step - loss: 0.0104 - accuracy: 0.9974\n",
      "Epoch 78/100\n",
      "5172/5172 [==============================] - 6s 1ms/step - loss: 0.0103 - accuracy: 0.9974\n",
      "Epoch 79/100\n",
      "5172/5172 [==============================] - 5s 1ms/step - loss: 0.0103 - accuracy: 0.9976\n",
      "Epoch 80/100\n",
      "5172/5172 [==============================] - 7s 1ms/step - loss: 0.0103 - accuracy: 0.9975\n",
      "Epoch 81/100\n",
      "5172/5172 [==============================] - 6s 1ms/step - loss: 0.0103 - accuracy: 0.9975\n",
      "Epoch 82/100\n",
      "5172/5172 [==============================] - 6s 1ms/step - loss: 0.0102 - accuracy: 0.9976\n",
      "Epoch 83/100\n",
      "5172/5172 [==============================] - 7s 1ms/step - loss: 0.0101 - accuracy: 0.9976\n",
      "Epoch 84/100\n",
      "5172/5172 [==============================] - 7s 1ms/step - loss: 0.0102 - accuracy: 0.9976\n",
      "Epoch 85/100\n",
      "5172/5172 [==============================] - 7s 1ms/step - loss: 0.0101 - accuracy: 0.9977\n",
      "Epoch 86/100\n",
      "5172/5172 [==============================] - 6s 1ms/step - loss: 0.0099 - accuracy: 0.9977\n",
      "Epoch 87/100\n",
      "5172/5172 [==============================] - 5s 1ms/step - loss: 0.0101 - accuracy: 0.9977\n",
      "Epoch 88/100\n",
      "5172/5172 [==============================] - 6s 1ms/step - loss: 0.0101 - accuracy: 0.9977\n",
      "Epoch 89/100\n",
      "5172/5172 [==============================] - 7s 1ms/step - loss: 0.0100 - accuracy: 0.9976\n",
      "Epoch 90/100\n",
      "5172/5172 [==============================] - 6s 1ms/step - loss: 0.0099 - accuracy: 0.9977\n",
      "Epoch 91/100\n",
      "5172/5172 [==============================] - 7s 1ms/step - loss: 0.0097 - accuracy: 0.9978\n",
      "Epoch 92/100\n",
      "5172/5172 [==============================] - 7s 1ms/step - loss: 0.0097 - accuracy: 0.9978\n",
      "Epoch 93/100\n",
      "5172/5172 [==============================] - 7s 1ms/step - loss: 0.0098 - accuracy: 0.9978\n",
      "Epoch 94/100\n",
      "5172/5172 [==============================] - 6s 1ms/step - loss: 0.0097 - accuracy: 0.9977\n",
      "Epoch 95/100\n",
      "5172/5172 [==============================] - 5s 1ms/step - loss: 0.0097 - accuracy: 0.9979\n",
      "Epoch 96/100\n",
      "5172/5172 [==============================] - 5s 984us/step - loss: 0.0097 - accuracy: 0.9978\n",
      "Epoch 97/100\n",
      "5172/5172 [==============================] - 5s 944us/step - loss: 0.0096 - accuracy: 0.9979\n",
      "Epoch 98/100\n",
      "5172/5172 [==============================] - 5s 966us/step - loss: 0.0097 - accuracy: 0.9978\n",
      "Epoch 99/100\n",
      "5172/5172 [==============================] - 5s 895us/step - loss: 0.0096 - accuracy: 0.9977\n",
      "Epoch 100/100\n",
      "5172/5172 [==============================] - 5s 925us/step - loss: 0.0097 - accuracy: 0.9979\n"
     ]
    }
   ],
   "source": [
    "start = time.time()\n",
    "model7.fit(X_train, Y_train.values.ravel())\n",
    "end = time.time()"
   ]
  },
  {
   "cell_type": "code",
   "execution_count": 44,
   "metadata": {},
   "outputs": [
    {
     "name": "stdout",
     "output_type": "stream",
     "text": [
      "Neural Network train time:  596.2622768878937\n"
     ]
    }
   ],
   "source": [
    "nn_train_time = end - start\n",
    "print('Neural Network train time: ', nn_train_time)"
   ]
  },
  {
   "cell_type": "code",
   "execution_count": 45,
   "metadata": {},
   "outputs": [
    {
     "name": "stdout",
     "output_type": "stream",
     "text": [
      "5095/5095 [==============================] - 3s 602us/step\n"
     ]
    }
   ],
   "source": [
    "start_time = time.time()\n",
    "Y_test_pred7 = model7.predict(X_test)\n",
    "end_time = time.time()"
   ]
  },
  {
   "cell_type": "code",
   "execution_count": 46,
   "metadata": {},
   "outputs": [
    {
     "name": "stdout",
     "output_type": "stream",
     "text": [
      "Neural Network test time:  3.798499345779419\n"
     ]
    }
   ],
   "source": [
    "nn_test_time = end_time - start_time\n",
    "print('Neural Network test time: ', nn_test_time)"
   ]
  },
  {
   "cell_type": "code",
   "execution_count": 47,
   "metadata": {},
   "outputs": [
    {
     "data": {
      "text/plain": [
       "1.0"
      ]
     },
     "execution_count": 47,
     "metadata": {},
     "output_type": "execute_result"
    }
   ],
   "source": [
    "accuracy_score(Y_train, Y_train.values.ravel())"
   ]
  },
  {
   "cell_type": "code",
   "execution_count": 48,
   "metadata": {},
   "outputs": [
    {
     "data": {
      "text/plain": [
       "0.9977304372895287"
      ]
     },
     "execution_count": 48,
     "metadata": {},
     "output_type": "execute_result"
    }
   ],
   "source": [
    "accuracy_score(Y_test,Y_test_pred7)"
   ]
  },
  {
   "cell_type": "markdown",
   "metadata": {},
   "source": [
    "Training accuracy"
   ]
  },
  {
   "cell_type": "code",
   "execution_count": 49,
   "metadata": {},
   "outputs": [
    {
     "data": {
      "text/plain": [
       "<BarContainer object of 7 artists>"
      ]
     },
     "execution_count": 49,
     "metadata": {},
     "output_type": "execute_result"
    },
    {
     "data": {
      "image/png": "[encoded data removed]",
      "text/plain": [
       "<Figure size 1080x216 with 1 Axes>"
      ]
     },
     "metadata": {
      "needs_background": "light"
     },
     "output_type": "display_data"
    }
   ],
   "source": [
    "names = ['NB','DT','RF','SVM','LR','GB','ANN']\n",
    "values = [model1.score(X_train, Y_train), model2.score(X_train, Y_train), model3.score(X_train, Y_train),\n",
    "          model4.score(X_train, Y_train), model5.score(X_train, Y_train), model6.score(X_train, Y_train),\n",
    "          accuracy_score(Y_train, Y_train.values.ravel())]\n",
    "f = plt.figure(figsize=(15,3),num=10)\n",
    "plt.subplot(131)\n",
    "plt.ylim(80,102)\n",
    "plt.bar(names,values)"
   ]
  }
 ],
 "metadata": {
  "kernelspec": {
   "display_name": "Python 3.9.7 ('py39')",
   "language": "python",
   "name": "python3"
  },
  "language_info": {
   "codemirror_mode": {
    "name": "ipython",
    "version": 3
   },
   "file_extension": ".py",
   "mimetype": "text/x-python",
   "name": "python",
   "nbconvert_exporter": "python",
   "pygments_lexer": "ipython3",
   "version": "3.9.7"
  },
  "orig_nbformat": 4,
  "vscode": {
   "interpreter": {
    "hash": "a12e2a4323b2f78fc80bc9af7b1a03df0527f4eb569d45f0586a1ac4c8c01671"
   }
  }
 },
 "nbformat": 4,
 "nbformat_minor": 2
}
